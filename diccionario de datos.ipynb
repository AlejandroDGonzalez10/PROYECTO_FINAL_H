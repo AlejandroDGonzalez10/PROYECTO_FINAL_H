{
 "cells": [
  {
   "cell_type": "code",
   "execution_count": 27,
   "metadata": {},
   "outputs": [
    {
     "name": "stdout",
     "output_type": "stream",
     "text": [
      "titulo_puesto           object\n",
      "empresa                 object\n",
      "descripcion_puesto      object\n",
      "modalidad               object\n",
      "salario                 object\n",
      "localidad               object\n",
      "fecha_posteo            object\n",
      "nivel_de_experiencia    object\n",
      "tipo_empleo             object\n",
      "dtype: object\n"
     ]
    }
   ],
   "source": [
    "import pandas as pd\n",
    "\n",
    "df = pd.read_csv(\"./linkedin_DS_empleos.csv\")\n",
    "# obtener los tipos de datos\n",
    "tipos_de_datos = df.dtypes\n",
    "\n",
    "print(tipos_de_datos)"
   ]
  },
  {
   "cell_type": "code",
   "execution_count": 28,
   "metadata": {},
   "outputs": [
    {
     "name": "stdout",
     "output_type": "stream",
     "text": [
      "titulo_puesto           object\n",
      "empresa                 object\n",
      "descripcion_puesto      object\n",
      "modalidad               object\n",
      "salario                 object\n",
      "localidad               object\n",
      "fecha_posteo            object\n",
      "nivel_de_experiencia    object\n",
      "tipo_empleo             object\n",
      "dtype: object\n"
     ]
    }
   ],
   "source": [
    "df = pd.read_csv(\"./linkedin_DA_empleos.csv\")\n",
    "# obtener los tipos de datos\n",
    "tipos_de_datos = df.dtypes\n",
    "\n",
    "print(tipos_de_datos)"
   ]
  },
  {
   "cell_type": "code",
   "execution_count": 29,
   "metadata": {},
   "outputs": [
    {
     "name": "stdout",
     "output_type": "stream",
     "text": [
      "titulo_puesto           object\n",
      "empresa                 object\n",
      "descripcion_puesto      object\n",
      "modalidad               object\n",
      "salario                 object\n",
      "localidad               object\n",
      "fecha_posteo            object\n",
      "nivel_de_experiencia    object\n",
      "tipo_empleo             object\n",
      "dtype: object\n"
     ]
    }
   ],
   "source": [
    "df = pd.read_csv(\"./linkedin_DI_empleos.csv\")\n",
    "# obtener los tipos de datos\n",
    "tipos_de_datos = df.dtypes\n",
    "\n",
    "print(tipos_de_datos)"
   ]
  },
  {
   "cell_type": "code",
   "execution_count": 30,
   "metadata": {},
   "outputs": [
    {
     "name": "stdout",
     "output_type": "stream",
     "text": [
      "Estoy trabajando en                                                          object\n",
      "localidad                                                                    object\n",
      "Dedicación                                                                   object\n",
      "Tipo de contrato                                                             object\n",
      "salario en usd                                                                int64\n",
      "Pagos en dólares                                                             object\n",
      "Años de experiencia                                                         float64\n",
      "Antigüedad en la empresa actual                                             float64\n",
      "Tiempo en el puesto actual                                                  float64\n",
      "Lenguajes de programación o tecnologías que utilices en tu puesto actual     object\n",
      "Bases de datos                                                               object\n",
      "Modalidad de trabajo                                                         object\n",
      "Trabajo de                                                                   object\n",
      "dtype: object\n"
     ]
    }
   ],
   "source": [
    "df = pd.read_csv(\"./REPETIDOsalary 2022.csv\")\n",
    "# obtener los tipos de datos\n",
    "tipos_de_datos = df.dtypes\n",
    "\n",
    "print(tipos_de_datos)"
   ]
  },
  {
   "cell_type": "code",
   "execution_count": 31,
   "metadata": {},
   "outputs": [
    {
     "name": "stdout",
     "output_type": "stream",
     "text": [
      "Estoy trabajando en                                                          object\n",
      "localidad                                                                    object\n",
      "Dedicación                                                                   object\n",
      "Tipo de contrato                                                             object\n",
      "salario en usd                                                                int64\n",
      "Pagos en dólares                                                             object\n",
      "Años de experiencia                                                         float64\n",
      "Antigüedad en la empresa actual                                             float64\n",
      "Tiempo en el puesto actual                                                  float64\n",
      "Plataformas que utilizas en tu puesto actual                                 object\n",
      "Lenguajes de programación o tecnologías que utilices en tu puesto actual     object\n",
      "Bases de datos                                                               object\n",
      "Modalidad de trabajo                                                         object\n",
      "Trabajo de                                                                   object\n",
      "dtype: object\n"
     ]
    }
   ],
   "source": [
    "df = pd.read_csv(\"./REPETIDOsalary 2023.csv\")\n",
    "# obtener los tipos de datos\n",
    "tipos_de_datos = df.dtypes\n",
    "\n",
    "print(tipos_de_datos)"
   ]
  }
 ],
 "metadata": {
  "kernelspec": {
   "display_name": "Python 3",
   "language": "python",
   "name": "python3"
  },
  "language_info": {
   "codemirror_mode": {
    "name": "ipython",
    "version": 3
   },
   "file_extension": ".py",
   "mimetype": "text/x-python",
   "name": "python",
   "nbconvert_exporter": "python",
   "pygments_lexer": "ipython3",
   "version": "3.11.3"
  },
  "orig_nbformat": 4
 },
 "nbformat": 4,
 "nbformat_minor": 2
}
